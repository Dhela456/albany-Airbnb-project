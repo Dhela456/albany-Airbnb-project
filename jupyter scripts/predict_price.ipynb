{
 "cells": [
  {
   "cell_type": "markdown",
   "id": "2cc64a37",
   "metadata": {},
   "source": [
    "# Project: Analyzing and Visualizing Airbnb Listings in a City"
   ]
  },
  {
   "cell_type": "markdown",
   "id": "ab3acc1e",
   "metadata": {},
   "source": [
    "## import libraries"
   ]
  },
  {
   "cell_type": "code",
   "execution_count": 50,
   "id": "a742b708",
   "metadata": {},
   "outputs": [],
   "source": [
    "import pandas as pd\n",
    "import numpy as np \n",
    "import joblib"
   ]
  },
  {
   "cell_type": "markdown",
   "id": "6a630a62",
   "metadata": {},
   "source": [
    "### import csv file"
   ]
  },
  {
   "cell_type": "code",
   "execution_count": 51,
   "id": "6913356a",
   "metadata": {},
   "outputs": [],
   "source": [
    "df = pd.read_csv(\"C:/Users/IreOluwa/Desktop/jupyter/albany-airbnb-project/Data/listings.csv\")"
   ]
  },
  {
   "cell_type": "markdown",
   "id": "536c77a1",
   "metadata": {},
   "source": [
    "## Model for Price Prediction (ML)"
   ]
  },
  {
   "cell_type": "code",
   "execution_count": 52,
   "id": "18f6c13d",
   "metadata": {},
   "outputs": [],
   "source": [
    "rf_model = joblib.load(\"C:/Users/IreOluwa/Desktop/jupyter/airbnb_price_model.pkl\")\n",
    "scaler = joblib.load(\"C:/Users/IreOluwa/Desktop/jupyter/albany-airbnb-project/outputs/scaler.pkl\")\n",
    "feature_columns = joblib.load(\"C:/Users/IreOluwa/Desktop/jupyter/albany-airbnb-project/outputs/feature_columns.pkl\")"
   ]
  },
  {
   "cell_type": "markdown",
   "id": "05e44d0f",
   "metadata": {},
   "source": [
    "### New Price Prediction Example"
   ]
  },
  {
   "cell_type": "code",
   "execution_count": 53,
   "id": "3bf3a8b7",
   "metadata": {},
   "outputs": [
    {
     "name": "stdout",
     "output_type": "stream",
     "text": [
      "\n",
      "Predicted Price for the new listing: $117.15\n"
     ]
    }
   ],
   "source": [
    "new_listing = {\n",
    "    'neighbourhood': 'FIFTEENTH WARD',\n",
    "    'room_type': 'Private room', \n",
    "    'number_of_reviews': 60, \n",
    "    'availability_365': 200, \n",
    "    'minimum_nights': 10,\n",
    "    'number_of_reviews_ltm': 300\n",
    "}\n",
    "new_df = pd.DataFrame([new_listing])\n",
    "new_df_encoded = pd.get_dummies(new_df, columns=['neighbourhood', 'room_type'], drop_first=True)\n",
    "\n",
    "for col in feature_columns:\n",
    "    if col not in new_df_encoded.columns:\n",
    "        new_df_encoded[col] = 0 \n",
    "new_df_encoded = new_df_encoded[feature_columns]\n",
    "new_df_encoded[['number_of_reviews', 'number_of_reviews_ltm', 'availability_365', 'minimum_nights']] = scaler.transform(new_df_encoded[['number_of_reviews', 'number_of_reviews_ltm', 'availability_365', 'minimum_nights']])\n",
    "\n",
    "new_price = rf_model.predict(new_df_encoded)[0]\n",
    "print(f\"\\nPredicted Price for the new listing: ${new_price:.2f}\")"
   ]
  }
 ],
 "metadata": {
  "kernelspec": {
   "display_name": "Python 3",
   "language": "python",
   "name": "python3"
  },
  "language_info": {
   "codemirror_mode": {
    "name": "ipython",
    "version": 3
   },
   "file_extension": ".py",
   "mimetype": "text/x-python",
   "name": "python",
   "nbconvert_exporter": "python",
   "pygments_lexer": "ipython3",
   "version": "3.13.5"
  }
 },
 "nbformat": 4,
 "nbformat_minor": 5
}
